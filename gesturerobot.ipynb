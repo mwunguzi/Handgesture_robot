{
 "cells": [
  {
   "cell_type": "code",
   "execution_count": 1,
   "id": "97092a95",
   "metadata": {},
   "outputs": [
    {
     "ename": "KeyboardInterrupt",
     "evalue": "",
     "output_type": "error",
     "traceback": [
      "\u001b[1;31m---------------------------------------------------------------------------\u001b[0m",
      "\u001b[1;31mKeyboardInterrupt\u001b[0m                         Traceback (most recent call last)",
      "\u001b[1;32mC:\\Users\\HMWUNG~1\\AppData\\Local\\Temp/ipykernel_18084/485599046.py\u001b[0m in \u001b[0;36m<module>\u001b[1;34m\u001b[0m\n\u001b[0;32m     21\u001b[0m     \u001b[0mimg\u001b[0m \u001b[1;33m=\u001b[0m \u001b[0mcv2\u001b[0m\u001b[1;33m.\u001b[0m\u001b[0mflip\u001b[0m\u001b[1;33m(\u001b[0m\u001b[0mimg\u001b[0m\u001b[1;33m,\u001b[0m\u001b[1;36m1\u001b[0m\u001b[1;33m)\u001b[0m\u001b[1;33m\u001b[0m\u001b[1;33m\u001b[0m\u001b[0m\n\u001b[0;32m     22\u001b[0m     \u001b[0mimgrgb\u001b[0m \u001b[1;33m=\u001b[0m \u001b[0mcv2\u001b[0m\u001b[1;33m.\u001b[0m\u001b[0mcvtColor\u001b[0m\u001b[1;33m(\u001b[0m\u001b[0mimg\u001b[0m\u001b[1;33m,\u001b[0m \u001b[0mcv2\u001b[0m\u001b[1;33m.\u001b[0m\u001b[0mCOLOR_BGR2RGB\u001b[0m\u001b[1;33m)\u001b[0m\u001b[1;33m\u001b[0m\u001b[1;33m\u001b[0m\u001b[0m\n\u001b[1;32m---> 23\u001b[1;33m     \u001b[0mres\u001b[0m \u001b[1;33m=\u001b[0m \u001b[0mhands\u001b[0m\u001b[1;33m.\u001b[0m\u001b[0mprocess\u001b[0m\u001b[1;33m(\u001b[0m\u001b[0mimgrgb\u001b[0m\u001b[1;33m)\u001b[0m\u001b[1;33m\u001b[0m\u001b[1;33m\u001b[0m\u001b[0m\n\u001b[0m\u001b[0;32m     24\u001b[0m \u001b[1;33m\u001b[0m\u001b[0m\n\u001b[0;32m     25\u001b[0m     \u001b[0mlmlist\u001b[0m\u001b[1;33m=\u001b[0m\u001b[1;33m[\u001b[0m\u001b[1;33m]\u001b[0m\u001b[1;33m\u001b[0m\u001b[1;33m\u001b[0m\u001b[0m\n",
      "\u001b[1;32m~\\Anaconda3\\envs\\gesturerobot\\lib\\site-packages\\mediapipe\\python\\solutions\\hands.py\u001b[0m in \u001b[0;36mprocess\u001b[1;34m(self, image)\u001b[0m\n\u001b[0;32m    151\u001b[0m     \"\"\"\n\u001b[0;32m    152\u001b[0m \u001b[1;33m\u001b[0m\u001b[0m\n\u001b[1;32m--> 153\u001b[1;33m     \u001b[1;32mreturn\u001b[0m \u001b[0msuper\u001b[0m\u001b[1;33m(\u001b[0m\u001b[1;33m)\u001b[0m\u001b[1;33m.\u001b[0m\u001b[0mprocess\u001b[0m\u001b[1;33m(\u001b[0m\u001b[0minput_data\u001b[0m\u001b[1;33m=\u001b[0m\u001b[1;33m{\u001b[0m\u001b[1;34m'image'\u001b[0m\u001b[1;33m:\u001b[0m \u001b[0mimage\u001b[0m\u001b[1;33m}\u001b[0m\u001b[1;33m)\u001b[0m\u001b[1;33m\u001b[0m\u001b[1;33m\u001b[0m\u001b[0m\n\u001b[0m",
      "\u001b[1;32m~\\Anaconda3\\envs\\gesturerobot\\lib\\site-packages\\mediapipe\\python\\solution_base.py\u001b[0m in \u001b[0;36mprocess\u001b[1;34m(self, input_data)\u001b[0m\n\u001b[0;32m    332\u001b[0m                                      data).at(self._simulated_timestamp))\n\u001b[0;32m    333\u001b[0m \u001b[1;33m\u001b[0m\u001b[0m\n\u001b[1;32m--> 334\u001b[1;33m     \u001b[0mself\u001b[0m\u001b[1;33m.\u001b[0m\u001b[0m_graph\u001b[0m\u001b[1;33m.\u001b[0m\u001b[0mwait_until_idle\u001b[0m\u001b[1;33m(\u001b[0m\u001b[1;33m)\u001b[0m\u001b[1;33m\u001b[0m\u001b[1;33m\u001b[0m\u001b[0m\n\u001b[0m\u001b[0;32m    335\u001b[0m     \u001b[1;31m# Create a NamedTuple object where the field names are mapping to the graph\u001b[0m\u001b[1;33m\u001b[0m\u001b[1;33m\u001b[0m\u001b[1;33m\u001b[0m\u001b[0m\n\u001b[0;32m    336\u001b[0m     \u001b[1;31m# output stream names.\u001b[0m\u001b[1;33m\u001b[0m\u001b[1;33m\u001b[0m\u001b[1;33m\u001b[0m\u001b[0m\n",
      "\u001b[1;31mKeyboardInterrupt\u001b[0m: "
     ]
    }
   ],
   "source": [
    "import cv2\n",
    "import mediapipe\n",
    "\n",
    "import time\n",
    "import serial\n",
    "import pyfirmata\n",
    "#ser.close()\n",
    "\n",
    "ArduinoSerial = serial.Serial('COM3', 9600)                     #Creating our Arduino serial object\n",
    "ctime=0\n",
    "ptime=0\n",
    "\n",
    "cap=cv2.VideoCapture(0)\n",
    "\n",
    "medhands=mediapipe.solutions.hands\n",
    "hands=medhands.Hands(max_num_hands=1,min_detection_confidence=0.7)\n",
    "draw=mediapipe.solutions.drawing_utils\n",
    "\n",
    "while True:\n",
    "    success, img=cap.read()\n",
    "    img = cv2.flip(img,1)\n",
    "    imgrgb = cv2.cvtColor(img, cv2.COLOR_BGR2RGB)    \n",
    "    res = hands.process(imgrgb)\n",
    "    \n",
    "    lmlist=[]\n",
    "    tipids=[4,8,12,16,20] #list of all landmarks of the tips of fingers\n",
    "    \n",
    "    cv2.rectangle(img,(20,350),(90,440),(0,255,204),cv2.FILLED)\n",
    "    cv2.rectangle(img,(20,350),(90,440),(0,0,0),5)\n",
    "    \n",
    "    if res.multi_hand_landmarks:\n",
    "        for handlms in res.multi_hand_landmarks:\n",
    "            for id,lm in enumerate(handlms.landmark):\n",
    "                \n",
    "                h,w,c= img.shape\n",
    "                cx,cy=int(lm.x * w) , int(lm.y * h)\n",
    "                lmlist.append([id,cx,cy])\n",
    "                if len(lmlist) != 0 and len(lmlist)==21:\n",
    "                    fingerlist=[]\n",
    "                    \n",
    "                    #thumb and dealing with flipping of hands\n",
    "                    if lmlist[12][1] > lmlist[20][1]:\n",
    "                        if lmlist[tipids[0]][1] > lmlist[tipids[0]-1][1]:\n",
    "                            fingerlist.append(1)\n",
    "                        else:\n",
    "                            fingerlist.append(0)\n",
    "                    else:\n",
    "                        if lmlist[tipids[0]][1] < lmlist[tipids[0]-1][1]:\n",
    "                            fingerlist.append(1)\n",
    "                        else:\n",
    "                            fingerlist.append(0)\n",
    "                    \n",
    "                    #others\n",
    "                    for id in range (1,5):\n",
    "                        if lmlist[tipids[id]][2] < lmlist[tipids[id]-2][2]:\n",
    "                            fingerlist.append(1)\n",
    "                        else:\n",
    "                            fingerlist.append(0)\n",
    "                    \n",
    "                    \n",
    "                    if len(fingerlist)!=0:\n",
    "                        fingercount=fingerlist.count(1)\n",
    "                    \n",
    "                    \n",
    "                    #cv2.putText(img,str(fingercount),(25,430),cv2.FONT_HERSHEY_PLAIN,6,(0,0,0),5)\n",
    "                    \n",
    "                    #board = pyfirmata.Arduino('COM43')\n",
    "                    #if fingercount == 5:\n",
    "                        #board.digital[12].write(1)\n",
    "                    #else:\n",
    "                        #board.digital[12].write(0)\n",
    "                    \n",
    "                    \n",
    "                    #communitcating with arduino using serial\n",
    "                    #with serial.Serial('COM43', 9600, timeout=1) as ser:\n",
    "                        #time.sleep(1.0)\n",
    "                    if fingercount == 5:\n",
    "                        ArduinoSerial.write(b'H')   # send the pyte string 'H'\n",
    "                        cv2.putText(img,\"Forward\",(100,400),cv2.FONT_HERSHEY_PLAIN,2,(0,255,0),5)\n",
    "                    elif fingercount == 1:\n",
    "                        ArduinoSerial.write(b'J')   # send the pyte string 'J'\n",
    "                        cv2.putText(img,\"Left\",(100,400),cv2.FONT_HERSHEY_PLAIN,2,(0,255,0),5)\n",
    "                    elif fingercount == 2:\n",
    "                        ArduinoSerial.write(b'R')   # send the pyte string 'R'\n",
    "                        cv2.putText(img,\"Right\",(100,400),cv2.FONT_HERSHEY_PLAIN,2,(0,255,0),5)\n",
    "                    elif fingercount == 4:\n",
    "                        ArduinoSerial.write(b'O')   # send the pyte string 'O'\n",
    "                        cv2.putText(img,\"Reverse\",(100,400),cv2.FONT_HERSHEY_PLAIN,2,(0,255,0),5)\n",
    "                        \n",
    "                    elif fingercount == 0:\n",
    "                        ArduinoSerial.write(b'L')   # send the pyte string 'L'\n",
    "                        cv2.putText(img,\"Stop\",(100,400),cv2.FONT_HERSHEY_PLAIN,2,(0,0,255),5)\n",
    "                            \n",
    "                    \n",
    "                #change color of points and lines\n",
    "                draw.draw_landmarks(img,handlms,medhands.HAND_CONNECTIONS,draw.DrawingSpec(color=(0,255,204),thickness=2,circle_radius=2),draw.DrawingSpec(color=(0,0,0),thickness=2,circle_radius=3))\n",
    "    \n",
    "    #fps counter\n",
    "    ctime = time.time()\n",
    "    fps=1/(ctime-ptime)\n",
    "    ptime=ctime\n",
    "    \n",
    "    #fps display\n",
    "    cv2.putText(img,f'FPS:{str(int(fps))}',(0,12),cv2.FONT_HERSHEY_PLAIN,1,(0,255,0),1)\n",
    "          \n",
    "    cv2.imshow(\"hand gestures\",img)\n",
    "    \n",
    "    #press q to quit\n",
    "    if cv2.waitKey(1) == ord('q'):\n",
    "        break\n",
    "    \n",
    "cv2.destroyAllWindows()"
   ]
  },
  {
   "cell_type": "code",
   "execution_count": 1,
   "id": "1a9838cb",
   "metadata": {},
   "outputs": [
    {
     "ename": "ModuleNotFoundError",
     "evalue": "No module named 'cv'",
     "output_type": "error",
     "traceback": [
      "\u001b[1;31m---------------------------------------------------------------------------\u001b[0m",
      "\u001b[1;31mModuleNotFoundError\u001b[0m                       Traceback (most recent call last)",
      "\u001b[1;32mC:\\Users\\HMWUNG~1\\AppData\\Local\\Temp/ipykernel_13636/2810407020.py\u001b[0m in \u001b[0;36m<module>\u001b[1;34m\u001b[0m\n\u001b[1;32m----> 1\u001b[1;33m \u001b[1;32mimport\u001b[0m \u001b[0mcv\u001b[0m\u001b[1;33m\u001b[0m\u001b[1;33m\u001b[0m\u001b[0m\n\u001b[0m",
      "\u001b[1;31mModuleNotFoundError\u001b[0m: No module named 'cv'"
     ]
    }
   ],
   "source": [
    "import cv"
   ]
  },
  {
   "cell_type": "code",
   "execution_count": null,
   "id": "53a03a92",
   "metadata": {},
   "outputs": [],
   "source": [
    "\n"
   ]
  },
  {
   "cell_type": "code",
   "execution_count": null,
   "id": "312a6ee9",
   "metadata": {},
   "outputs": [],
   "source": []
  },
  {
   "cell_type": "code",
   "execution_count": null,
   "id": "73bdc6d6",
   "metadata": {},
   "outputs": [],
   "source": []
  },
  {
   "cell_type": "code",
   "execution_count": null,
   "id": "5d67147d",
   "metadata": {},
   "outputs": [],
   "source": []
  },
  {
   "cell_type": "code",
   "execution_count": null,
   "id": "4b7a1ace",
   "metadata": {},
   "outputs": [],
   "source": []
  },
  {
   "cell_type": "code",
   "execution_count": null,
   "id": "74f36c1a",
   "metadata": {},
   "outputs": [],
   "source": []
  },
  {
   "cell_type": "code",
   "execution_count": null,
   "id": "21f3777f",
   "metadata": {},
   "outputs": [],
   "source": []
  }
 ],
 "metadata": {
  "kernelspec": {
   "display_name": "Python 3 (ipykernel)",
   "language": "python",
   "name": "python3"
  },
  "language_info": {
   "codemirror_mode": {
    "name": "ipython",
    "version": 3
   },
   "file_extension": ".py",
   "mimetype": "text/x-python",
   "name": "python",
   "nbconvert_exporter": "python",
   "pygments_lexer": "ipython3",
   "version": "3.7.11"
  }
 },
 "nbformat": 4,
 "nbformat_minor": 5
}
